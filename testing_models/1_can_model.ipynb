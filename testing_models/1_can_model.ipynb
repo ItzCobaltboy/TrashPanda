{
 "cells": [
  {
   "cell_type": "code",
   "execution_count": 1,
   "id": "c4d94ccd",
   "metadata": {},
   "outputs": [
    {
     "name": "stderr",
     "output_type": "stream",
     "text": [
      "c:\\Users\\schak\\AppData\\Local\\Programs\\Python\\Python310\\lib\\site-packages\\keras\\src\\layers\\rnn\\rnn.py:200: UserWarning: Do not pass an `input_shape`/`input_dim` argument to a layer. When using Sequential models, prefer using an `Input(shape)` object as the first layer in the model instead.\n",
      "  super().__init__(**kwargs)\n"
     ]
    },
    {
     "name": "stdout",
     "output_type": "stream",
     "text": [
      "\u001b[1m1/1\u001b[0m \u001b[32m━━━━━━━━━━━━━━━━━━━━\u001b[0m\u001b[37m\u001b[0m \u001b[1m0s\u001b[0m 74ms/step\n",
      "🟢 No route needed for T1.\n",
      "  🔹 Actual Fill: 73.00%\n",
      "  🔹 Predicted Fill: 73.38%\n",
      "\u001b[1m2/2\u001b[0m \u001b[32m━━━━━━━━━━━━━━━━━━━━\u001b[0m\u001b[37m\u001b[0m \u001b[1m0s\u001b[0m 3ms/step \n",
      "\n",
      "📊 model mean squared error on test set: 199.28\n"
     ]
    }
   ],
   "source": [
    "import pandas as pd\n",
    "import numpy as np\n",
    "from sklearn.preprocessing import MinMaxScaler\n",
    "from sklearn.metrics import mean_squared_error\n",
    "import tensorflow as tf\n",
    "from tensorflow import keras\n",
    "from keras.layers import Dense, LSTM\n",
    "from keras.models import Sequential, load_model\n",
    "\n",
    "# === Step 0: Load Data ===\n",
    "df = pd.read_csv(\"synthetic_trashcan_fill_levels2.csv\")\n",
    "\n",
    "# === Step 1: Select One Trashcan ===\n",
    "df = df.drop(columns=[\"edgeID\"])\n",
    "trashcan_id = df['trashcanID'].iloc[0]\n",
    "trashcan_data = df[df['trashcanID'] == trashcan_id].drop(columns=[\"trashcanID\"]).values.flatten()\n",
    "\n",
    "# === Step 2: Normalize and Create Sequences ===\n",
    "scaler = MinMaxScaler(feature_range=(0, 1))\n",
    "scaled_data = scaler.fit_transform(trashcan_data.reshape(-1, 1))\n",
    "\n",
    "# Use past 10 days to predict next\n",
    "def create_sequences(data, window_size=10):\n",
    "    X, y = [], []\n",
    "    for i in range(len(data) - window_size):\n",
    "        X.append(data[i:i + window_size])\n",
    "        y.append(data[i + window_size])\n",
    "    return np.array(X), np.array(y)\n",
    "\n",
    "window_size = 10\n",
    "X, y = create_sequences(scaled_data, window_size)\n",
    "\n",
    "X = X.reshape((X.shape[0], X.shape[1], 1))\n",
    "\n",
    "# === Step 3: Split into train/test ===\n",
    "split = int(len(X) * 0.8)\n",
    "X_train, y_train = X[:split], y[:split]\n",
    "X_test, y_test = X[split:], y[split:]\n",
    "\n",
    "# === Step 4: Train LSTM ===\n",
    "model = Sequential([\n",
    "    LSTM(50, activation='relu', input_shape=(window_size, 1)),\n",
    "    Dense(1)\n",
    "])\n",
    "model.compile(optimizer='adam', loss='mse')\n",
    "model.fit(X_train, y_train, epochs=50, verbose=0)\n",
    "\n",
    "# === Step 5: Predict Today's Level ===\n",
    "last_sequence = scaled_data[-window_size:]  # last 10 days\n",
    "last_sequence = last_sequence.reshape((1, window_size, 1))\n",
    "pred_scaled = model.predict(last_sequence)[0][0]\n",
    "predicted_fill = scaler.inverse_transform([[pred_scaled]])[0][0]\n",
    "\n",
    "# === Step 6: Check Actual Today Fill Level (last day in history) ===\n",
    "actual_today = trashcan_data[-1]\n",
    "\n",
    "# === Step 7: Decision Logic ===\n",
    "if actual_today >= 80 or predicted_fill >= 80:\n",
    "    print(f\"🟠 Route Required for Trashcan: {trashcan_id}\")\n",
    "    print(f\"  🔹 Actual Fill: {actual_today:.2f}%\")\n",
    "    print(f\"  🔹 Predicted Fill: {predicted_fill:.2f}%\")\n",
    "else:\n",
    "    print(f\"🟢 No route needed for {trashcan_id}.\")\n",
    "    print(f\"  🔹 Actual Fill: {actual_today:.2f}%\")\n",
    "    print(f\"  🔹 Predicted Fill: {predicted_fill:.2f}%\")\n",
    "\n",
    "# === Step 8: Evaluation ===\n",
    "pred_test = model.predict(X_test)\n",
    "pred_test_unscaled = scaler.inverse_transform(pred_test)\n",
    "y_test_unscaled = scaler.inverse_transform(y_test.reshape(-1, 1))\n",
    "\n",
    "mse = mean_squared_error(y_test_unscaled, pred_test_unscaled)\n",
    "print(f\"\\n📊 model mean squared error on test set: {mse:.2f}\")\n"
   ]
  }
 ],
 "metadata": {
  "kernelspec": {
   "display_name": "Python 3",
   "language": "python",
   "name": "python3"
  },
  "language_info": {
   "codemirror_mode": {
    "name": "ipython",
    "version": 3
   },
   "file_extension": ".py",
   "mimetype": "text/x-python",
   "name": "python",
   "nbconvert_exporter": "python",
   "pygments_lexer": "ipython3",
   "version": "3.10.0"
  }
 },
 "nbformat": 4,
 "nbformat_minor": 5
}
